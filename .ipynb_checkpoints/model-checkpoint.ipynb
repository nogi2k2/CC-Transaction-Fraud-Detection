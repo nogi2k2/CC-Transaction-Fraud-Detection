{
 "cells": [
  {
   "cell_type": "code",
   "execution_count": null,
   "id": "7aa17485",
   "metadata": {},
   "outputs": [],
   "source": [
    "%%writefile requirements.txt\n",
    "# colabcode\n",
    "fastapi\n",
    "uvicorn\n",
    "python-multipart\n",
    "# pyngrok\n",
    "kaggle"
   ]
  },
  {
   "cell_type": "code",
   "execution_count": null,
   "id": "f4717ec1",
   "metadata": {},
   "outputs": [],
   "source": [
    "!pip install -r requirements.txt"
   ]
  },
  {
   "cell_type": "code",
   "execution_count": null,
   "id": "1a95f18e",
   "metadata": {},
   "outputs": [],
   "source": [
    "from google.colab import files\n",
    "files.upload()"
   ]
  },
  {
   "cell_type": "code",
   "execution_count": null,
   "id": "dfb9fa6a",
   "metadata": {},
   "outputs": [],
   "source": [
    "! mkdir ~/.kaggle\n",
    "\n",
    "! cp kaggle.json ~/.kaggle/\n",
    "! chmod 600 /root/.kaggle/kaggle.json"
   ]
  },
  {
   "cell_type": "code",
   "execution_count": null,
   "id": "8d6b032e",
   "metadata": {},
   "outputs": [],
   "source": [
    "!kaggle datasets download -d ealaxi/paysim1\n",
    "!unzip /content/paysim1.zip"
   ]
  },
  {
   "cell_type": "code",
   "execution_count": null,
   "id": "dbb7d933",
   "metadata": {},
   "outputs": [],
   "source": [
    "import pandas as pd\n",
    "import numpy as np\n",
    "import joblib\n",
    "import matplotlib.pyplot as plt\n",
    "import seaborn as sns\n",
    "import warnings\n",
    "\n",
    "from sklearn.preprocessing import LabelEncoder\n",
    "from sklearn.metrics import accuracy_score, f1_score, recall_score, precision_score, confusion_matrix\n",
    "from sklearn.model_selection import train_test_split\n",
    "from sklearn.ensemble import RandomForestClassifier\n",
    "from sklearn.linear_model import LogisticRegression\n",
    "from xgboost import XGBClassifier\n",
    "\n",
    "warnings.filterwarnings(\"ignore\")\n",
    "%matplotlib inline"
   ]
  },
  {
   "cell_type": "code",
   "execution_count": null,
   "id": "03cdfb10",
   "metadata": {},
   "outputs": [],
   "source": [
    "df = pd.read_csv('PS_20174392719_1491204439457_log.csv')\n",
    "pd.set_option('display.max.columns', None)\n",
    "df.head()"
   ]
  },
  {
   "cell_type": "markdown",
   "id": "c54dce1b",
   "metadata": {},
   "source": [
    "# EDA:"
   ]
  },
  {
   "cell_type": "code",
   "execution_count": null,
   "id": "2a963de7",
   "metadata": {},
   "outputs": [],
   "source": [
    "df.columns"
   ]
  },
  {
   "cell_type": "code",
   "execution_count": null,
   "id": "5759a91f",
   "metadata": {},
   "outputs": [],
   "source": [
    "df.info()"
   ]
  },
  {
   "cell_type": "code",
   "execution_count": null,
   "id": "bd446cde",
   "metadata": {},
   "outputs": [],
   "source": [
    "df.shape"
   ]
  },
  {
   "cell_type": "code",
   "execution_count": null,
   "id": "5e907ae9",
   "metadata": {},
   "outputs": [],
   "source": [
    "df.describe().T"
   ]
  },
  {
   "cell_type": "code",
   "execution_count": null,
   "id": "e5927200",
   "metadata": {},
   "outputs": [],
   "source": [
    "df.isnull().sum()"
   ]
  },
  {
   "cell_type": "code",
   "execution_count": null,
   "id": "67c48ee9",
   "metadata": {},
   "outputs": [],
   "source": [
    "fraud=len(df['is_Fraud'][df.isFraud==1])\n",
    "not_fraud=len(df['is_Fraud'][df.isFraud==0])\n",
    "\n",
    "arr=np.array([fraud,not_fraud])\n",
    "labels = ['Not Fraudulent', 'Fraudulent']\n",
    "print(f\"Total Fraudulent Cases: {fraud}\\nTotal Non Fraudulent Cases: {not_fraud}\")"
   ]
  },
  {
   "cell_type": "code",
   "execution_count": null,
   "id": "5df5e0bc",
   "metadata": {},
   "outputs": [],
   "source": [
    "fig, ax = plt.subplots(figsize=(21,10))\n",
    "sns.set_context('poster')\n",
    "corr = df.corr()\n",
    "sns.heatmap(corr, xticklabels=corr.columns, yticklabels=corr.columns,cmap='gist_rainbow', annot = True)\n",
    "ax.set_title('Collinearity of Feature Attributes')\n",
    "plt.savefig('cormap.png')"
   ]
  },
  {
   "cell_type": "code",
   "execution_count": null,
   "id": "5363c572",
   "metadata": {},
   "outputs": [],
   "source": [
    "# Distribution graphs (histogram/bar graph) of column data\n",
    "def plotPerColumnDistribution(df, nGraphShown, nGraphPerRow):\n",
    "    nunique = df.nunique()\n",
    "    df = df[[col for col in df if nunique[col] > 1 and nunique[col] < 50]] # For displaying purposes, pick columns that have between 1 and 50 unique values\n",
    "    nRow, nCol = df.shape\n",
    "    columnNames = list(df)\n",
    "    nGraphRow = (nCol + nGraphPerRow - 1) / nGraphPerRow\n",
    "    plt.figure(num = None, figsize = (6 * nGraphPerRow, 8 * nGraphRow), dpi = 80, facecolor = 'w', edgecolor = 'k')\n",
    "    for i in range(min(nCol, nGraphShown)):\n",
    "        plt.subplot(nGraphRow, nGraphPerRow, i + 1)\n",
    "        columnDf = df.iloc[:, i]\n",
    "        if (not np.issubdtype(type(columnDf.iloc[0]), np.number)):\n",
    "            valueCounts = columnDf.value_counts()\n",
    "            valueCounts.plot.bar()\n",
    "        else:\n",
    "            columnDf.hist()\n",
    "        plt.ylabel('counts')\n",
    "        plt.xticks(rotation = 90)\n",
    "        plt.title(f'{columnNames[i]} (column {i})')\n",
    "    plt.tight_layout(pad = 1.0, w_pad = 1.0, h_pad = 1.0)\n",
    "    plt.show()"
   ]
  },
  {
   "cell_type": "code",
   "execution_count": null,
   "id": "4d6d1b4f",
   "metadata": {},
   "outputs": [],
   "source": [
    "#@title \n",
    "# Correlation matrix\n",
    "def plotCorrelationMatrix(df, graphWidth):\n",
    "    filename = df.dataframeName\n",
    "    df = df.dropna('columns') # drop columns with NaN\n",
    "    df = df[[col for col in df if df[col].nunique() > 1]] # keep columns where there are more than 1 unique values\n",
    "    if df.shape[1] < 2:\n",
    "        print(f'No correlation plots shown: The number of non-NaN or constant columns ({df.shape[1]}) is less than 2')\n",
    "        return\n",
    "    corr = df.corr()\n",
    "    plt.figure(num=None, figsize=(graphWidth, graphWidth), dpi=80, facecolor='w', edgecolor='k')\n",
    "    corrMat = plt.matshow(corr, fignum = 1)\n",
    "    plt.xticks(range(len(corr.columns)), corr.columns, rotation=90)\n",
    "    plt.yticks(range(len(corr.columns)), corr.columns)\n",
    "    plt.gca().xaxis.tick_bottom()\n",
    "    plt.colorbar(corrMat)\n",
    "    plt.title(f'Correlation Matrix for {filename}', fontsize=15)\n",
    "    plt.show()"
   ]
  },
  {
   "cell_type": "code",
   "execution_count": null,
   "id": "252f9feb",
   "metadata": {},
   "outputs": [],
   "source": [
    "#@title \n",
    "# Scatter and density plots\n",
    "def plotScatterMatrix(df, plotSize, textSize):\n",
    "    df = df.select_dtypes(include =[np.number]) # keep only numerical columns\n",
    "    # Remove rows and columns that would lead to df being singular\n",
    "    df = df.dropna('columns')\n",
    "    df = df[[col for col in df if df[col].nunique() > 1]] # keep columns where there are more than 1 unique values\n",
    "    columnNames = list(df)\n",
    "    if len(columnNames) > 10: # reduce the number of columns for matrix inversion of kernel density plots\n",
    "        columnNames = columnNames[:10]\n",
    "    df = df[columnNames]\n",
    "    ax = pd.plotting.scatter_matrix(df, alpha=0.75, figsize=[plotSize, plotSize], diagonal='kde')\n",
    "    corrs = df.corr().values\n",
    "    for i, j in zip(*plt.np.triu_indices_from(ax, k = 1)):\n",
    "        ax[i, j].annotate('Corr. coef = %.3f' % corrs[i, j], (0.8, 0.2), xycoords='axes fraction', ha='center', va='center', size=textSize)\n",
    "    plt.suptitle('Scatter and Density Plot')\n",
    "    plt.show()"
   ]
  },
  {
   "cell_type": "code",
   "execution_count": null,
   "id": "329cfdcd",
   "metadata": {},
   "outputs": [],
   "source": [
    "percent_fraud = (len(df.loc[df.isFraud==1])) / (len(df.loc[df.isFraud == 0])) * 100\n",
    "print(f\"Percentage of Fraudulent Transanctions: {percent_fraud}%\")"
   ]
  },
  {
   "cell_type": "code",
   "execution_count": null,
   "id": "9d969be2",
   "metadata": {},
   "outputs": [],
   "source": [
    "df.drop(['nameOrg', 'nameDest'], axis=1,inplace=True)\n",
    "data=df.copy(deep=True)\n",
    "categorical_cols=[col for col in daata.columns if data[col].dtype==\"O\"]\n",
    "\n",
    "le=LabelEncoder()\n",
    "for col in categorical_cols:\n",
    "    data[col] = le.fit_transform(data[col])\n",
    "\n",
    "df.head()"
   ]
  },
  {
   "cell_type": "code",
   "execution_count": null,
   "id": "305e44b2",
   "metadata": {},
   "outputs": [],
   "source": [
    "def evaluate(y_test, y_pred):\n",
    "    print(f\"Accuracy Score: {accuracy_score(y_test, y_pred)}\")\n",
    "    print(f\"Recall Score: {recall_score(y_test, y_pred)}\")\n",
    "    print(f\"Precision Score: {precision_score(y_test, y_pred)}\")\n",
    "    print(f\"F1 Score: {f1_score(y_test, y_pred)}\")\n",
    "    print(\"Confusion Matrix: \", confusion_matrix(y_test, y_pred))"
   ]
  },
  {
   "cell_type": "markdown",
   "id": "fc0e4096",
   "metadata": {},
   "source": [
    "# Data:"
   ]
  },
  {
   "cell_type": "code",
   "execution_count": null,
   "id": "0b24d83c",
   "metadata": {},
   "outputs": [],
   "source": [
    "X=data.drop('isFraud', axis=1)\n",
    "Y=data.isFraud\n",
    "\n",
    "X_train, X_test, Y_train, Y_test = train_test_split(X,Y, test_size = 0.25, random_state=27)"
   ]
  },
  {
   "cell_type": "markdown",
   "id": "f26ad6c9",
   "metadata": {},
   "source": [
    "# Models:"
   ]
  },
  {
   "cell_type": "code",
   "execution_count": null,
   "id": "64352320",
   "metadata": {},
   "outputs": [],
   "source": [
    "lr_clf = LogisticRegression()\n",
    "rfc_clf = RandomForestClassifier(n_estimators=10)\n",
    "xgb_clf = XGBClassifier(colsample_bytree = 1.0,\n",
    "                        learning_rate = 0.1,\n",
    "                        max_depth =4,\n",
    "                        n_estimators = 200,\n",
    "                        subsample = 1.0)"
   ]
  },
  {
   "cell_type": "code",
   "execution_count": null,
   "id": "2f43f42a",
   "metadata": {},
   "outputs": [],
   "source": [
    "#Logistic Regression:\n",
    "lr_clf.fit(X_train, Y_train)\n",
    "y_preds_lr = lr_clf.predict(X_test)\n",
    "evaluate(Y_test, y_preds_lr)"
   ]
  },
  {
   "cell_type": "code",
   "execution_count": null,
   "id": "2dc7895e",
   "metadata": {},
   "outputs": [],
   "source": [
    "#Rnadom Forest Classifier:\n",
    "rfc_clf.fit(X_train, Y_train)\n",
    "y_preds_rfc = rfc_clf.predict(X_test)\n",
    "evaluate(Y_test, y_preds_rfc)"
   ]
  },
  {
   "cell_type": "code",
   "execution_count": null,
   "id": "67029d27",
   "metadata": {},
   "outputs": [],
   "source": [
    "#XGBoost:\n",
    "eval_set = [(X_test,Y_test)]\n",
    "xgb_clf.fit(X_train, Y_train, early_stopping_rounds=30, eval_set=eval_set, eval_metric='logloss', verbose=True)\n",
    "y_preds_xgb = xgb_clf.predict(X_test)\n",
    "evaluate(Y_test, y_preds_xgb)"
   ]
  },
  {
   "cell_type": "code",
   "execution_count": null,
   "id": "7dcfe550",
   "metadata": {},
   "outputs": [],
   "source": [
    "joblib.dump(rfc_clf, 'credit_card_fraud.pkl')"
   ]
  }
 ],
 "metadata": {
  "kernelspec": {
   "display_name": "Python 3",
   "language": "python",
   "name": "python3"
  },
  "language_info": {
   "codemirror_mode": {
    "name": "ipython",
    "version": 3
   },
   "file_extension": ".py",
   "mimetype": "text/x-python",
   "name": "python",
   "nbconvert_exporter": "python",
   "pygments_lexer": "ipython3",
   "version": "3.9.4"
  }
 },
 "nbformat": 4,
 "nbformat_minor": 5
}
